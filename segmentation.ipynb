{
  "nbformat": 4,
  "nbformat_minor": 0,
  "metadata": {
    "colab": {
      "name": "segmentation.ipynb",
      "version": "0.3.2",
      "provenance": [],
      "private_outputs": true,
      "collapsed_sections": []
    },
    "language_info": {
      "codemirror_mode": {
        "name": "ipython",
        "version": 3
      },
      "file_extension": ".py",
      "mimetype": "text/x-python",
      "name": "python",
      "nbconvert_exporter": "python",
      "pygments_lexer": "ipython3",
      "version": "3.5.2"
    },
    "kernelspec": {
      "name": "python3",
      "display_name": "Python 3"
    },
    "accelerator": "GPU"
  },
  "cells": [
    {
      "cell_type": "markdown",
      "metadata": {
        "id": "MgNiSfrXnU9G",
        "colab_type": "text"
      },
      "source": [
        "[![Open In Colab](https://colab.research.google.com/assets/colab-badge.svg)](https://colab.research.google.com/github/qbeer/patho-segmentation-unet/blob/master/segmentation.ipynb)"
      ]
    },
    {
      "cell_type": "code",
      "metadata": {
        "id": "TgN6Pwae7iFF",
        "colab_type": "code",
        "colab": {}
      },
      "source": [
        "!git clone https://github.com/qbeer/patho-segmentation-unet\n",
        "!cp -a patho-segmentation-unet/* ."
      ],
      "execution_count": 0,
      "outputs": []
    },
    {
      "cell_type": "code",
      "metadata": {
        "id": "-XyKlsBo7ccP",
        "colab_type": "code",
        "colab": {}
      },
      "source": [
        "from patho import Model, UNET\n",
        "import os\n",
        "import cv2\n",
        "from torchvision import transforms, datasets\n",
        "import torch\n",
        "import numpy as np\n",
        "from PIL import Image"
      ],
      "execution_count": 0,
      "outputs": []
    },
    {
      "cell_type": "code",
      "metadata": {
        "id": "5jJS58O-7ccj",
        "colab_type": "code",
        "colab": {}
      },
      "source": [
        "net = UNET()\n",
        "model = Model(net)"
      ],
      "execution_count": 0,
      "outputs": []
    },
    {
      "cell_type": "code",
      "metadata": {
        "id": "ifX3cJkN7cdX",
        "colab_type": "code",
        "colab": {}
      },
      "source": [
        "class DigestPathDataset(object):\n",
        "    def __init__(self, root, transforms):\n",
        "        self.root = root\n",
        "        self.transforms = transforms\n",
        "        # load all image files, sorting them to\n",
        "        # ensure that they are aligned\n",
        "        self.imgs = list(sorted(os.listdir(os.path.join(root, \"resized_images\"))))\n",
        "        self.masks = list(sorted(os.listdir(os.path.join(root, \"resized_masks\"))))\n",
        "\n",
        "    def __getitem__(self, idx):\n",
        "        # load images ad masks\n",
        "        img_path = os.path.join(self.root, \"resized_images\", self.imgs[idx])\n",
        "        mask_path = os.path.join(self.root, \"resized_masks\", self.masks[idx])\n",
        "        img = Image.open(img_path).convert(\"RGB\")\n",
        "        # note that we haven't converted the mask to RGB,\n",
        "        # because each color corresponds to a different instance\n",
        "        # with 0 being background\n",
        "        mask = Image.open(mask_path).convert(\"L\")\n",
        "        # convert the PIL Image into a numpy array\n",
        "        mask = np.array(mask).reshape(1, 388, 388)\n",
        "        mask = torch.as_tensor(mask, dtype=torch.float32)\n",
        "        \n",
        "        img = np.array(img).reshape(3, 572, 572) / 255.\n",
        "        img = torch.as_tensor(img, dtype=torch.float32)\n",
        "\n",
        "        if self.transforms is not None:\n",
        "            img, mask = self.transforms(img, mask)\n",
        "\n",
        "        return img, mask\n",
        "\n",
        "    def __len__(self):\n",
        "        return len(self.imgs)"
      ],
      "execution_count": 0,
      "outputs": []
    },
    {
      "cell_type": "code",
      "metadata": {
        "id": "mpOhgp4Z7cdj",
        "colab_type": "code",
        "colab": {}
      },
      "source": [
        "dataset = DigestPathDataset('data', None)\n",
        "\n",
        "indices = torch.randperm(len(dataset)).tolist()\n",
        "dataset = torch.utils.data.Subset(dataset, indices)\n",
        "\n",
        "data_loader = torch.utils.data.DataLoader(\n",
        "    dataset, batch_size=3, shuffle=True, num_workers=1)"
      ],
      "execution_count": 0,
      "outputs": []
    },
    {
      "cell_type": "code",
      "metadata": {
        "id": "ArbN-KzU7cdo",
        "colab_type": "code",
        "colab": {}
      },
      "source": [
        "model.train(data_loader, EPOCH=15)"
      ],
      "execution_count": 0,
      "outputs": []
    }
  ]
}