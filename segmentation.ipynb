{
  "nbformat": 4,
  "nbformat_minor": 0,
  "metadata": {
    "colab": {
      "name": "segmentation.ipynb",
      "version": "0.3.2",
      "provenance": [],
      "collapsed_sections": []
    },
    "language_info": {
      "codemirror_mode": {
        "name": "ipython",
        "version": 3
      },
      "file_extension": ".py",
      "mimetype": "text/x-python",
      "name": "python",
      "nbconvert_exporter": "python",
      "pygments_lexer": "ipython3",
      "version": "3.5.2"
    },
    "kernelspec": {
      "name": "python3",
      "display_name": "Python 3"
    },
    "accelerator": "GPU"
  },
  "cells": [
    {
      "cell_type": "markdown",
      "metadata": {
        "id": "MgNiSfrXnU9G",
        "colab_type": "text"
      },
      "source": [
        "[![Open In Colab](https://colab.research.google.com/assets/colab-badge.svg)](https://colab.research.google.com/github/qbeer/patho-segmentation-unet/blob/master/segmentation.ipynb)"
      ]
    },
    {
      "cell_type": "code",
      "metadata": {
        "id": "TgN6Pwae7iFF",
        "colab_type": "code",
        "colab": {
          "base_uri": "https://localhost:8080/",
          "height": 146
        },
        "outputId": "250637ab-bf63-46a4-df1a-76b86b599a6a"
      },
      "source": [
        "!git clone https://github.com/qbeer/patho-segmentation-unet\n",
        "!cp -a patho-segmentation-unet/* ."
      ],
      "execution_count": 1,
      "outputs": [
        {
          "output_type": "stream",
          "text": [
            "Cloning into 'patho-segmentation-unet'...\n",
            "remote: Enumerating objects: 545, done.\u001b[K\n",
            "remote: Counting objects: 100% (545/545), done.\u001b[K\n",
            "remote: Compressing objects: 100% (525/525), done.\u001b[K\n",
            "remote: Total 845 (delta 27), reused 535 (delta 20), pack-reused 300\n",
            "Receiving objects: 100% (845/845), 48.25 MiB | 15.83 MiB/s, done.\n",
            "Resolving deltas: 100% (185/185), done.\n"
          ],
          "name": "stdout"
        }
      ]
    },
    {
      "cell_type": "code",
      "metadata": {
        "id": "-XyKlsBo7ccP",
        "colab_type": "code",
        "colab": {}
      },
      "source": [
        "from patho import Model, UNET\n",
        "import os\n",
        "import cv2\n",
        "from torchvision import transforms, datasets\n",
        "import torch\n",
        "import numpy as np\n",
        "from PIL import Image"
      ],
      "execution_count": 0,
      "outputs": []
    },
    {
      "cell_type": "code",
      "metadata": {
        "id": "5jJS58O-7ccj",
        "colab_type": "code",
        "colab": {}
      },
      "source": [
        "net = UNET()\n",
        "model = Model(net)"
      ],
      "execution_count": 0,
      "outputs": []
    },
    {
      "cell_type": "code",
      "metadata": {
        "id": "ifX3cJkN7cdX",
        "colab_type": "code",
        "colab": {}
      },
      "source": [
        "class DigestPathDataset(object):\n",
        "    def __init__(self, root, transforms):\n",
        "        self.root = root\n",
        "        self.transforms = transforms\n",
        "        # load all image files, sorting them to\n",
        "        # ensure that they are aligned\n",
        "        self.imgs = list(sorted(os.listdir(os.path.join(root, \"resized_images\"))))\n",
        "        self.masks = list(sorted(os.listdir(os.path.join(root, \"resized_masks\"))))\n",
        "\n",
        "    def __getitem__(self, idx):\n",
        "        # load images ad masks\n",
        "        img_path = os.path.join(self.root, \"resized_images\", self.imgs[idx])\n",
        "        mask_path = os.path.join(self.root, \"resized_masks\", self.masks[idx])\n",
        "        img = Image.open(img_path).convert(\"RGB\")\n",
        "        # note that we haven't converted the mask to RGB,\n",
        "        # because each color corresponds to a different instance\n",
        "        # with 0 being background\n",
        "        mask = Image.open(mask_path).convert(\"L\")\n",
        "        # convert the PIL Image into a numpy array\n",
        "        mask = np.array(mask).reshape(1, 388, 388)\n",
        "        mask = torch.as_tensor(mask, dtype=torch.float32)\n",
        "        \n",
        "        img = np.array(img).reshape(3, 572, 572) / 255.\n",
        "        img = torch.as_tensor(img, dtype=torch.float32)\n",
        "\n",
        "        if self.transforms is not None:\n",
        "            img, mask = self.transforms(img, mask)\n",
        "\n",
        "        return img, mask\n",
        "\n",
        "    def __len__(self):\n",
        "        return len(self.imgs)"
      ],
      "execution_count": 0,
      "outputs": []
    },
    {
      "cell_type": "code",
      "metadata": {
        "id": "mpOhgp4Z7cdj",
        "colab_type": "code",
        "colab": {}
      },
      "source": [
        "dataset = DigestPathDataset('data', None)\n",
        "\n",
        "indices = torch.randperm(len(dataset)).tolist()\n",
        "dataset = torch.utils.data.Subset(dataset, indices)\n",
        "\n",
        "data_loader = torch.utils.data.DataLoader(\n",
        "    dataset, batch_size=3, shuffle=True, num_workers=1)"
      ],
      "execution_count": 0,
      "outputs": []
    },
    {
      "cell_type": "code",
      "metadata": {
        "id": "ArbN-KzU7cdo",
        "colab_type": "code",
        "outputId": "04aa735f-74a7-4366-940c-ecb4ece68bb9",
        "colab": {
          "base_uri": "https://localhost:8080/",
          "height": 1000
        }
      },
      "source": [
        "model.train(data_loader, EPOCH=15)"
      ],
      "execution_count": 0,
      "outputs": [
        {
          "output_type": "stream",
          "text": [
            "[1,    10] loss: -1084.482\n",
            "[1,    20] loss: -965.835\n",
            "[1,    30] loss: -659.558\n",
            "[1,    40] loss: -1109.700\n",
            "[1,    50] loss: -954.255\n",
            "[1,    60] loss: -935.493\n",
            "[1,    70] loss: -933.014\n",
            "[1,    80] loss: -917.600\n",
            "[2,    10] loss: -879.052\n",
            "[2,    20] loss: -1092.183\n",
            "[2,    30] loss: -858.566\n",
            "[2,    40] loss: -839.545\n",
            "[2,    50] loss: -1047.354\n",
            "[2,    60] loss: -1125.781\n",
            "[2,    70] loss: -990.331\n",
            "[2,    80] loss: -844.833\n",
            "[3,    10] loss: -941.994\n",
            "[3,    20] loss: -1150.375\n",
            "[3,    30] loss: -773.399\n",
            "[3,    40] loss: -824.213\n",
            "[3,    50] loss: -877.181\n",
            "[3,    60] loss: -1012.367\n",
            "[3,    70] loss: -974.258\n",
            "[3,    80] loss: -1032.250\n",
            "[4,    10] loss: -1144.589\n",
            "[4,    20] loss: -812.298\n",
            "[4,    30] loss: -996.895\n",
            "[4,    40] loss: -973.395\n",
            "[4,    50] loss: -1008.895\n",
            "[4,    60] loss: -963.186\n",
            "[4,    70] loss: -952.456\n",
            "[4,    80] loss: -703.682\n",
            "[5,    10] loss: -909.557\n",
            "[5,    20] loss: -1012.984\n",
            "[5,    30] loss: -999.090\n",
            "[5,    40] loss: -1039.811\n",
            "[5,    50] loss: -699.950\n",
            "[5,    60] loss: -773.254\n",
            "[5,    70] loss: -1098.207\n",
            "[5,    80] loss: -1050.502\n",
            "[6,    10] loss: -857.957\n",
            "[6,    20] loss: -878.434\n",
            "[6,    30] loss: -815.145\n",
            "[6,    40] loss: -998.247\n",
            "[6,    50] loss: -1076.538\n",
            "[6,    60] loss: -991.497\n",
            "[6,    70] loss: -942.717\n",
            "[6,    80] loss: -1159.598\n",
            "[7,    10] loss: -928.518\n",
            "[7,    20] loss: -834.690\n",
            "[7,    30] loss: -1166.145\n",
            "[7,    40] loss: -830.823\n",
            "[7,    50] loss: -973.654\n",
            "[7,    60] loss: -729.112\n",
            "[7,    70] loss: -1064.947\n",
            "[7,    80] loss: -1010.530\n",
            "[8,    10] loss: -1030.476\n",
            "[8,    20] loss: -1011.961\n",
            "[8,    30] loss: -920.367\n"
          ],
          "name": "stdout"
        }
      ]
    }
  ]
}