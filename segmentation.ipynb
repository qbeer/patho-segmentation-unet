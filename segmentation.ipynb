{
  "nbformat": 4,
  "nbformat_minor": 0,
  "metadata": {
    "colab": {
      "name": "segmentation.ipynb",
      "version": "0.3.2",
      "provenance": [],
      "private_outputs": true,
      "collapsed_sections": []
    },
    "language_info": {
      "codemirror_mode": {
        "name": "ipython",
        "version": 3
      },
      "file_extension": ".py",
      "mimetype": "text/x-python",
      "name": "python",
      "nbconvert_exporter": "python",
      "pygments_lexer": "ipython3",
      "version": "3.6.7"
    },
    "kernelspec": {
      "display_name": "Python 3 [cuda]",
      "language": "python",
      "name": "python3-cuda"
    },
    "accelerator": "GPU"
  },
  "cells": [
    {
      "cell_type": "markdown",
      "metadata": {
        "colab_type": "text",
        "id": "MgNiSfrXnU9G"
      },
      "source": [
        "[![Open In Colab](https://colab.research.google.com/assets/colab-badge.svg)](https://colab.research.google.com/github/qbeer/patho-segmentation-unet/blob/master/segmentation.ipynb)"
      ]
    },
    {
      "cell_type": "code",
      "metadata": {
        "colab_type": "code",
        "id": "TgN6Pwae7iFF",
        "colab": {}
      },
      "source": [
        "!git clone https://github.com/qbeer/patho-segmentation-unet\n",
        "!cp -a patho-segmentation-unet/* ."
      ],
      "execution_count": 0,
      "outputs": []
    },
    {
      "cell_type": "code",
      "metadata": {
        "colab_type": "code",
        "id": "-XyKlsBo7ccP",
        "colab": {}
      },
      "source": [
        "from patho import Model, UNET, DataLoader\n",
        "import numpy as np\n",
        "import matplotlib.pyplot as plt"
      ],
      "execution_count": 0,
      "outputs": []
    },
    {
      "cell_type": "code",
      "metadata": {
        "colab_type": "code",
        "id": "5jJS58O-7ccj",
        "colab": {}
      },
      "source": [
        "net = UNET()\n",
        "model = Model(net, lr=5e-4, with_jaccard=True)"
      ],
      "execution_count": 0,
      "outputs": []
    },
    {
      "cell_type": "code",
      "metadata": {
        "id": "NL27FDTwxnYh",
        "colab_type": "code",
        "colab": {}
      },
      "source": [
        "data_loader = DataLoader(\"patho/data/crc\", \"images\",\n",
        "                         \"masks\", batch_size=3).getInstance()"
      ],
      "execution_count": 0,
      "outputs": []
    },
    {
      "cell_type": "code",
      "metadata": {
        "colab_type": "code",
        "id": "ArbN-KzU7cdo",
        "colab": {}
      },
      "source": [
        "model.train(data_loader, EPOCH=5)"
      ],
      "execution_count": 0,
      "outputs": []
    },
    {
      "cell_type": "code",
      "metadata": {
        "id": "d89vZgnuxnYu",
        "colab_type": "code",
        "colab": {}
      },
      "source": [
        "for imgs, masks in data_loader:\n",
        "    predicted_masks = model.net(imgs.cuda()).cpu().detach().numpy()\n",
        "    imgs, masks = imgs.cpu().detach().numpy(), masks.cpu().detach().numpy()\n",
        "    break\n",
        "    \n",
        "print(imgs.shape, masks.shape)\n",
        "print(np.min(predicted_masks[0]), np.max(predicted_masks[0]))\n",
        "print(np.min(masks[0]), np.max(masks[0]))"
      ],
      "execution_count": 0,
      "outputs": []
    },
    {
      "cell_type": "code",
      "metadata": {
        "id": "byulAZS8xnY1",
        "colab_type": "code",
        "colab": {}
      },
      "source": [
        "import matplotlib.pyplot as plt\n",
        "\n",
        "fig, axes = plt.subplots(3, 3, figsize=(9, 9), sharex=True, sharey=True)\n",
        "\n",
        "for ind, ax in enumerate(axes.flatten(), 0):\n",
        "    if ind % 3 == 0:\n",
        "        ax.imshow(imgs[ind // 3].transpose((1, 2, 0))[92:572-92, 92:572-92])\n",
        "    elif ind % 3 == 1:\n",
        "        ax.imshow(masks[ind // 3].transpose((1, 2, 0)).reshape(388, 388))\n",
        "    else:\n",
        "        ax.imshow(predicted_masks[ind // 3].transpose((1, 2, 0)).reshape(388, 388))\n",
        "\n",
        "fig.tight_layout()\n",
        "plt.show()"
      ],
      "execution_count": 0,
      "outputs": []
    },
    {
      "cell_type": "code",
      "metadata": {
        "id": "XSKGoOcZxnY7",
        "colab_type": "code",
        "colab": {}
      },
      "source": [
        "predicted_masks[predicted_masks >= 0.5] = 1.\n",
        "predicted_masks[predicted_masks < 0.5] = 0."
      ],
      "execution_count": 0,
      "outputs": []
    },
    {
      "cell_type": "code",
      "metadata": {
        "id": "Rk6J-fvPxnZD",
        "colab_type": "code",
        "colab": {}
      },
      "source": [
        "import matplotlib.pyplot as plt\n",
        "\n",
        "fig, axes = plt.subplots(3, 3, figsize=(9, 9), sharex=True, sharey=True)\n",
        "\n",
        "for ind, ax in enumerate(axes.flatten(), 0):\n",
        "    if ind % 3 == 0:\n",
        "        ax.imshow(imgs[ind // 3].transpose((1, 2, 0))[92:572-92, 92:572-92])\n",
        "    elif ind % 3 == 1:\n",
        "        ax.imshow(masks[ind // 3].transpose((1, 2, 0)).reshape(388, 388))\n",
        "    else:\n",
        "        ax.imshow(predicted_masks[ind // 3].transpose((1, 2, 0)).reshape(388, 388))\n",
        "\n",
        "fig.tight_layout()\n",
        "plt.show()"
      ],
      "execution_count": 0,
      "outputs": []
    },
    {
      "cell_type": "code",
      "metadata": {
        "id": "AfgI7-1nxnZL",
        "colab_type": "code",
        "colab": {}
      },
      "source": [
        ""
      ],
      "execution_count": 0,
      "outputs": []
    }
  ]
}